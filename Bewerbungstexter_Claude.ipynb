{
 "cells": [
  {
   "cell_type": "markdown",
   "id": "9dbc9a32-0390-45e1-ab9b-72d00782ead7",
   "metadata": {},
   "source": [
    "# Bewerbungstexter Claude"
   ]
  },
  {
   "cell_type": "code",
   "execution_count": 1,
   "id": "b5ac1b5a-b78e-4898-be13-9fbcf2a16f62",
   "metadata": {},
   "outputs": [],
   "source": [
    "import os\n",
    "from dotenv import load_dotenv\n",
    "import gradio as gr\n",
    "import anthropic"
   ]
  },
  {
   "cell_type": "code",
   "execution_count": 2,
   "id": "b12dc422-4344-4e91-9f4a-9fb07b78002c",
   "metadata": {},
   "outputs": [],
   "source": [
    "load_dotenv(override=True)\n",
    "anthropic_api_key = os.getenv('ANTHROPIC_API_KEY')\n",
    "claude = anthropic.Anthropic()\n",
    "claude_model = \"claude-3-haiku-20240307\""
   ]
  },
  {
   "cell_type": "code",
   "execution_count": 3,
   "id": "0c28af19-bdd7-46c6-8565-d96a52dbc584",
   "metadata": {},
   "outputs": [],
   "source": [
    "systemp = \"Du bewirbst dich auf eine Stellenanzeige. Schreibe ein sorgfältig formuliertes und passgenaues Motivationsschreiben für die angegebene Stelle.\""
   ]
  },
  {
   "cell_type": "code",
   "execution_count": 4,
   "id": "90a15e12-e15f-4955-91b5-0ddae0f26148",
   "metadata": {},
   "outputs": [],
   "source": [
    "def stream_claude(userprompt, stellenanzeige):\n",
    "    result = claude.messages.stream(\n",
    "        model=\"claude-3-haiku-20240307\",\n",
    "        max_tokens=1000,\n",
    "        temperature=0.7,\n",
    "        system=f\"{systemp}:\\n{stellenanzeige}\",\n",
    "        messages=[\n",
    "            {\"role\": \"user\", \"content\": userprompt},\n",
    "        ],\n",
    "    )\n",
    "    response = \"\"\n",
    "    with result as stream:\n",
    "        for text in stream.text_stream:\n",
    "            response += text or \"\"\n",
    "            yield response"
   ]
  },
  {
   "cell_type": "code",
   "execution_count": 5,
   "id": "bb25a8e5-c8a8-421a-99ee-71bc95d3b740",
   "metadata": {},
   "outputs": [
    {
     "name": "stdout",
     "output_type": "stream",
     "text": [
      "* Running on local URL:  http://127.0.0.1:7860\n",
      "\n",
      "To create a public link, set `share=True` in `launch()`.\n"
     ]
    },
    {
     "data": {
      "text/html": [
       "<div><iframe src=\"http://127.0.0.1:7860/\" width=\"100%\" height=\"500\" allow=\"autoplay; camera; microphone; clipboard-read; clipboard-write;\" frameborder=\"0\" allowfullscreen></iframe></div>"
      ],
      "text/plain": [
       "<IPython.core.display.HTML object>"
      ]
     },
     "metadata": {},
     "output_type": "display_data"
    },
    {
     "data": {
      "text/plain": []
     },
     "execution_count": 5,
     "metadata": {},
     "output_type": "execute_result"
    }
   ],
   "source": [
    "view = gr.Interface(\n",
    "    fn=stream_claude,\n",
    "    inputs=[gr.Textbox(label=\"User Prompt - Wie genau soll das Motivationsschreiben verfasst sein (Länge, Stil etc):\"),\n",
    "            gr.Textbox(label=\"Stellenanzeige\")],\n",
    "    outputs=[gr.Markdown(label=\"Motivationsschreiben:\")],\n",
    "    flagging_mode=\"never\"\n",
    ")\n",
    "view.launch(inbrowser=True)"
   ]
  },
  {
   "cell_type": "code",
   "execution_count": null,
   "id": "3d67ece8-90ac-46f2-8c66-6bbd752cea21",
   "metadata": {},
   "outputs": [],
   "source": []
  }
 ],
 "metadata": {
  "kernelspec": {
   "display_name": "Python 3 (ipykernel)",
   "language": "python",
   "name": "python3"
  },
  "language_info": {
   "codemirror_mode": {
    "name": "ipython",
    "version": 3
   },
   "file_extension": ".py",
   "mimetype": "text/x-python",
   "name": "python",
   "nbconvert_exporter": "python",
   "pygments_lexer": "ipython3",
   "version": "3.11.11"
  }
 },
 "nbformat": 4,
 "nbformat_minor": 5
}
